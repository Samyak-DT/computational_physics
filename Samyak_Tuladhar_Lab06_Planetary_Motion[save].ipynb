{
  "nbformat": 4,
  "nbformat_minor": 0,
  "metadata": {
    "colab": {
      "provenance": [],
      "include_colab_link": true
    },
    "kernelspec": {
      "name": "python3",
      "display_name": "Python 3"
    },
    "language_info": {
      "name": "python"
    }
  },
  "cells": [
    {
      "cell_type": "markdown",
      "metadata": {
        "id": "view-in-github",
        "colab_type": "text"
      },
      "source": [
        "<a href=\"https://colab.research.google.com/github/Samyak-DT/computational_physics/blob/main/Samyak_Tuladhar_Lab06_Planetary_Motion%5Bsave%5D.ipynb\" target=\"_parent\"><img src=\"https://colab.research.google.com/assets/colab-badge.svg\" alt=\"Open In Colab\"/></a>"
      ]
    },
    {
      "cell_type": "markdown",
      "source": [
        "# Modeling Planetary Motion\n",
        "\n",
        "*written by Rose Finn*\n",
        "\n",
        "*adapted from Giordano and Nakanishi, Chapter 4*\n",
        "\n",
        "\n",
        "The goal of this lab is to model the motion of a planet orbiting a star.  We will start by modeling the Earth's motion around the Sun, but we write the code in such a way that it can be easily adapted to model other 2-body systems.\n",
        "\n",
        "* In class, we reviewed the units that we will use in the lab, namely our distances will be in Astronomical Units (AU, where 1 AU is the mean distance between the Earth and Sun), and our time will be measured in years.\n",
        "\n",
        "* We will assume that the Sun is fixed at a central position, and the Earth revolves around it."
      ],
      "metadata": {
        "id": "iEJ575EkLwdL"
      }
    },
    {
      "cell_type": "code",
      "source": [
        "# import numpy and pyplot\n",
        "import numpy as np\n",
        "import matplotlib.pyplot as plt\n"
      ],
      "metadata": {
        "id": "05KTpPj2Mp2g"
      },
      "execution_count": 1,
      "outputs": []
    },
    {
      "cell_type": "markdown",
      "source": [
        "# Write the initialize function\n",
        "\n",
        "Write a function called **initialize** that does the following.\n",
        "* Input\n",
        "  * initial x position, $x_0$\n",
        "  * initial y position, $y_0$\n",
        "  * initial x velocity, $v_{0x}$\n",
        "  * initial y velocity, $v_{0y}$\n",
        "  * total time, $tmax$\n",
        "  * time step, $dt$\n",
        "\n",
        "* The function should:\n",
        "  *  calculate the number of time steps\n",
        "  ```\n",
        "  nsteps = int(tmax/dt)\n",
        "  ```\n",
        "  * create the tarr, xarr, yarr, vxarr, vyarr arrays using `np.zeros`\n",
        "  * set the first value of the xarr array to $x_0$\n",
        "  * set the first value of the yarr array to $y_0$\n",
        "  * set the first value of the vxarr array to $v_{0x}$\n",
        "  * set the first value of the vyarr array to $v_{0y}$\n",
        "\n",
        "* The function should return the following arrays *in this order*:\n",
        "  * time array, `tarr`\n",
        "  * x position array, `xarr`\n",
        "  * y position array, `yarr`\n",
        "  * x velocity array, `vxarr`\n",
        "  * y velocity array, `vyarr`"
      ],
      "metadata": {
        "id": "u1083CZUMtch"
      }
    },
    {
      "cell_type": "code",
      "source": [
        "# write your initialize function here\n",
        "def init(x0,y0,v0x,v0y,tmax,dt):\n",
        "  nsteps=int(tmax/dt)\n",
        "  xarr=np.zeros(nsteps)\n",
        "  yarr=np.zeros(nsteps)\n",
        "  vx=np.zeros(nsteps)\n",
        "  vy=np.zeros(nsteps)\n",
        "  xarr[0]=x0\n",
        "  yarr[0]=y0\n",
        "  vx[0]=v0x\n",
        "  vy[0]=v0y\n",
        "  return xarr,yarr,vx,vy\n"
      ],
      "metadata": {
        "id": "o6pBzFufMsS3"
      },
      "execution_count": 2,
      "outputs": []
    },
    {
      "cell_type": "markdown",
      "source": [
        "# Distance Function\n",
        "\n",
        "Write a function called **distance** to calculate the distance between the Earth and Sun given the Earth's x and y positions.  We assume throughout that the Sun is located at $x=0, y=0$, and that the Sun does not move.\n",
        "\n",
        "Write a function called **distance** that does the following.\n",
        "* Input\n",
        "  * x position, $x$\n",
        "  * y position, $y$\n",
        "\n",
        "* The function should:\n",
        "  *  calculate the distance between the Earth and Sun\n",
        "  ```\n",
        "  r = np.sqrt(x**2 + y**2)\n",
        "  ```\n",
        "\n",
        "\n",
        "* The function should return :\n",
        "  * the distance $r$"
      ],
      "metadata": {
        "id": "QiFQFNboOQ5y"
      }
    },
    {
      "cell_type": "code",
      "source": [
        "# write your distance function here\n",
        "def distance(x,y):\n",
        "  r = np.sqrt(x**2+y**2)\n",
        "  return r"
      ],
      "metadata": {
        "id": "-xwCsHQzOQO_"
      },
      "execution_count": 3,
      "outputs": []
    },
    {
      "cell_type": "markdown",
      "source": [
        "# Calculate function\n",
        "\n",
        "Write a function called **calculate** that does the following.\n",
        "* Input\n",
        "  * time array, `tarr`\n",
        "  * x position, `xarr`\n",
        "  * y position, `yarr`\n",
        "  * x velocity, `vxarr`\n",
        "  * y velocity, `vyarr`\n",
        "  * time step, `dt`\n",
        "  * optional argument **cromer** that has a default value of ```True```\n",
        "\n",
        "* The function should:\n",
        "  * calculate vx, vy, and time\n",
        "  * if ```cromer=True```, use the Euler-Cromer method to calculate x and y\n",
        "  * if ```cromer=False```, use the Euler method to calculate x and y\n",
        "\n",
        "* The function should return the following arrays *in this order*:\n",
        "  * time array, `tarr`\n",
        "  * $x$ position array, `xarr`\n",
        "  * $y$ position array, `yarr`\n",
        "  * $v_{x}$ velocity array, `vxarr`\n",
        "  * $v_{y}$ velocity array, `vyarr`"
      ],
      "metadata": {
        "id": "fz0g1U3AO7Gc"
      }
    },
    {
      "cell_type": "code",
      "source": [
        "# write your calculate function\n",
        "def calculate(xarr,yarr,tarr,vxarr,vyarr,dt,cromer=True):\n",
        "  GM = 4 * np.pi**2\n",
        "  for i in range(1,len(tarr)):\n",
        "    tarr[i]=tarr[i-1]+dt\n",
        "    if cromer:\n",
        "      ax=-GM*xarr[i-1] / distance(xarr[i-1],yarr[i-1])\n",
        "      vxarr[i]=vxarr[i-1]+ax*dt\n",
        "      xarr[i]=xarr[i-1]+vxarr[i]*dt\n",
        "\n",
        "      ay=-GM*yarr[i-1] / distance(xarr[i-1],yarr[i-1])\n",
        "      vyarr[i]=vyarr[i-1]+ay*dt\n",
        "      yarr[i]=yarr[i-1]+vyarr[i]*dt\n",
        "    else:\n",
        "      ax=-GM*xarr[i-1] / distance(xarr[i-1],yarr[i-1])\n",
        "      vxarr[i]=vxarr[i-1]+ax*dt\n",
        "      xarr[i]=xarr[i-1]+vxarr[i-1]*dt\n",
        "\n",
        "      ay=-GM*yarr[i-1] / distance(xarr[i-1],yarr[i-1])\n",
        "      vyarr[i]=vyarr[i-1]+ay*dt\n",
        "      yarr[i]=yarr[i-1]+vyarr[i-1]*dt\n",
        "  return xarr,yarr,vxarr,vyarr\n",
        "\n",
        "\n"
      ],
      "metadata": {
        "id": "gQVm1u07QLhX"
      },
      "execution_count": 4,
      "outputs": []
    },
    {
      "cell_type": "markdown",
      "source": [
        "# Function to make plots\n",
        "\n",
        "Write a function called **make_plots** that does the following.\n",
        "* Input\n",
        "  * time array, `tarr`\n",
        "  * x position, `xarr`\n",
        "  * y position, `yarr`\n",
        "  * x velocity, `vxarr`\n",
        "  * y velocity, `vyarr`\n",
        "\n",
        "\n",
        "* The function should:\n",
        "  * set the figure size to (15,4)\n",
        "  ```python\n",
        "  plt.figure(figsize=(15,4))\n",
        "  plt.subplots_adjust(wspace=.35)\n",
        "  ```\n",
        "  * use the ```plt.subplot``` command to make a plot with one row and three columns.\n",
        "  * plot y vs. x in the first panel using scatter, and color the points using the time array.  The following code snippet should help.  Note: we are using ```plt.axis('equal')``` so that the x and y axes are on the same scale.  This will make a circle look like a circle.  Also, plot the position of the Sun using a circle.\n",
        "  ```\n",
        "  plt.scatter(xarr,yarr,c=tarr,s=10)\n",
        "  plt.colorbar(label=\"Time (yr)\")\n",
        "  plt.axis('equal')\n",
        "  ```\n",
        "  * plot xarr, yarr, and the radius (`r = np.sqrt(x**2+y**2) `) vs time in the second plot.\n",
        "  * plot vxarr, vyarr, and the magnitude of the total velocity  (`v = np.sqrt(vx**2+vy**2) `) vs time in the third plot.\n",
        "  * be sure to label the axes in each plot, and use the correct units.\n",
        "  * add a legend to the second and third panels.\n",
        "\n",
        "* The function does not return anything."
      ],
      "metadata": {
        "id": "fyprUn49S04P"
      }
    },
    {
      "cell_type": "code",
      "source": [
        "# write your make_plots function here\n",
        "def plot(xarr,yarr,vxarr,vyarr,tarr):\n",
        "  plt.figure(figsize=(15,4))\n",
        "  plt.subplots_adjust(wspace=.35)\n",
        "\n",
        "  plt.subplots(1,3,1)\n",
        "  plt.scatter(xarr,yarr,c=tarr,s=10)\n",
        "  plt.colorbar(label=\"Time (yr)\")\n",
        "  plt.axis('equal')\n",
        "\n",
        "  plt.subplots(1,3,2)\n",
        "  plt.plot(tarr,xarr)\n",
        "  plt.plot(tarr,yarr)\n",
        "  plt.plot(tarr,np.sqrt(xarr**2+yarr**2))"
      ],
      "metadata": {
        "id": "eTr-qQiyUgGJ"
      },
      "execution_count": 5,
      "outputs": []
    },
    {
      "cell_type": "markdown",
      "source": [
        "# main function\n",
        "\n",
        "Write a function called **main** that does the following.  Note, this is different from how we have structured the main program in the past, but it will allow us to modify the parameters of the model easily.\n",
        "\n",
        "* Input\n",
        "  * initial x position, $x_0$\n",
        "  * initial y position, $y_0$\n",
        "  * initial x velocity, $v_{0x}$\n",
        "  * initial y velocity, $v_{0y}$\n",
        "  * total time, $tmax$\n",
        "  * time step, $dt$\n",
        "  * optional argument **cromer** that has a default value of ```True```\n",
        "\n",
        "* The function should:\n",
        "  * call **initialize**\n",
        "  * call **calculate**\n",
        "  * call **make_plots**\n",
        "\n",
        "\n",
        "* The function should return the following arrays *in this order*:\n",
        "  * time array, `tarr`\n",
        "  * $x$ position array, `xarr`\n",
        "  * $y$ position array, `yarr`\n",
        "  * $v_{x}$ velocity array, `vxarr`\n",
        "  * $v_{y}$ velocity array, `vyarr`"
      ],
      "metadata": {
        "id": "q-g14hupS0nS"
      }
    },
    {
      "cell_type": "code",
      "source": [
        "# write your main function here\n",
        "def main(x0,y0,v0x,v0y,tmax,dt):\n",
        "  xarr,yarr,vx_in,vy_in\n"
      ],
      "metadata": {
        "id": "O1KyWHFlVFsa"
      },
      "execution_count": null,
      "outputs": []
    },
    {
      "cell_type": "markdown",
      "source": [
        "# Run the program\n",
        "\n",
        "(10 points)\n",
        "\n",
        "In the cell below:\n",
        "\n",
        "* define the initial values of x0, y0, v0x, and v0y\n",
        "* define the value of tmax and dt\n",
        "* then call main\n"
      ],
      "metadata": {
        "id": "d_GFVLcxVE1S"
      }
    },
    {
      "cell_type": "code",
      "source": [
        "x0 =  # initial x position in AU\n",
        "y0 =  # initial y position in AU\n",
        "v0x =  # initial x velocity in AU/yr\n",
        "v0y =  # initial y velocity in AU/yr\n",
        "tmax = # time in years\n",
        "dt = # time step in years\n",
        "\n",
        "\n",
        "# call main"
      ],
      "metadata": {
        "id": "c_aW38ZeVrsm"
      },
      "execution_count": null,
      "outputs": []
    },
    {
      "cell_type": "markdown",
      "source": [
        "### Question 1\n",
        "\n",
        "Describe the Earth's orbit.  How does the radius change with time?  How does the magnitude of the velocity or speed change with time?\n"
      ],
      "metadata": {
        "id": "pdmJh8-NWVPm"
      }
    },
    {
      "cell_type": "markdown",
      "source": [
        "# Modifying the initial velocity\n",
        "\n",
        "(10 points)\n",
        "\n",
        "What if the Earth's velocity suddenly increased?  Would its orbit change?  If so, how?\n",
        "\n",
        "This is a question that is challenging to solve analytically, but we can easily solve it numerically.\n",
        "\n",
        "In the cell below, increase the initial velocity by one, and then rerun main.  \n",
        "\n",
        "**Be sure to adjust `tmax` so that the planet completes at least one full orbit.**\n",
        "\n"
      ],
      "metadata": {
        "id": "t4WFZYg4WNJl"
      }
    },
    {
      "cell_type": "code",
      "source": [
        "# write your code here to increase the initial velocity by one\n",
        "\n",
        "x0 =  # initial x position in AU\n",
        "y0 =  # initial y position in AU\n",
        "v0x =  # initial x velocity in AU/yr\n",
        "v0y =  # initial y velocity in AU/yr\n",
        "tmax = # time in years\n",
        "dt = # time step in years\n",
        "\n",
        "\n",
        "# call main"
      ],
      "metadata": {
        "id": "UwmlGAgSW4Le"
      },
      "execution_count": null,
      "outputs": []
    },
    {
      "cell_type": "markdown",
      "source": [
        "Repeat this again, but this time decrease the initial velocity by one:\n",
        "```python\n",
        "v0y = 2*np.pi - 1\n",
        "```"
      ],
      "metadata": {
        "id": "98hEN2foXh-B"
      }
    },
    {
      "cell_type": "code",
      "source": [
        "# write code to decrease initial velocity by one\n",
        "x0 =  # initial x position in AU\n",
        "y0 =  # initial y position in AU\n",
        "v0x =  # initial x velocity in AU/yr\n",
        "v0y =  # initial y velocity in AU/yr\n",
        "tmax = # time in years\n",
        "dt = # time step in years\n",
        "\n",
        "\n",
        "# call main"
      ],
      "metadata": {
        "id": "zuszq_oIX5xC"
      },
      "execution_count": null,
      "outputs": []
    },
    {
      "cell_type": "markdown",
      "source": [
        "### Question 2\n",
        "\n",
        "* Describe what happens to the Earth's orbit when you increase the initial velocity.  Describe how the distance between the Earth and Sun changes with time.  Describe how the Earth's speed changes with time. What is the relationship between speed and distance from the Sun?\n",
        "\n",
        "* Describe what happens to the Earth's orbit when you decrease the initial velocity. Describe how the distance between the Earth and Sun changes with time.  Describe how the Earth's speed changes with time. What is the relationship between speed and distance from the Sun?\n",
        "\n",
        "* Kepler's 1st Law states that the planets orbit the Sun in elliptical orbits, with the Sun at one of the foci.  Are your modeling results consistent with Kepler's 1st Law?  What determines if a planet or other solar system body orbits in a circular or elliptical orbit?\n",
        "\n",
        "* Kepler's 2nd Law states that planets sweep out equal area in equal time.  This means that planets travel faster when they are closer to the Sun, and slower when they are further from the Sun.  Are your modeling results consistent with Kepler's 2nd Law?"
      ],
      "metadata": {
        "id": "2xPMX8kcW6uw"
      }
    },
    {
      "cell_type": "markdown",
      "source": [
        "# Stability of the Orbital Model\n",
        "\n",
        "(5 points)\n",
        "\n",
        "* In the cells below, rerun your model, but increase the total time to 2, 3, and 4 years.  Use the initial velocity of ```v0y = 2 np.pi```.\n"
      ],
      "metadata": {
        "id": "Qd7uCf4uXeEe"
      }
    },
    {
      "cell_type": "code",
      "source": [
        "x0 =  # initial x position in AU\n",
        "y0 =  # initial y position in AU\n",
        "v0x =  # initial x velocity in AU/yr\n",
        "v0y =  # initial y velocity in AU/yr\n",
        "tmax = 3# time in years\n",
        "dt = 0.01# time step in years\n",
        "\n",
        "\n",
        "# call main"
      ],
      "metadata": {
        "id": "aptX8eIdXdZU"
      },
      "execution_count": null,
      "outputs": []
    },
    {
      "cell_type": "markdown",
      "source": [
        "### Question 3\n",
        "\n",
        "* Does the orbit stay stable?  If the orbit stays stable, then the points from multiple orbits will fall on top of each other."
      ],
      "metadata": {
        "id": "WuxwdCwqYpt5"
      }
    },
    {
      "cell_type": "markdown",
      "source": [
        "# Euler vs. Euler-Cromer Method\n",
        "\n",
        "(5 points)\n",
        "\n",
        "* In the cell below, rerun the initial model, but use the Euler method instead of the Euler-Cromer method.\n",
        "\n",
        "* set tmax to 4 years to see if and how the orbit changes with time.\n",
        "\n"
      ],
      "metadata": {
        "id": "ZP81q_76YwRE"
      }
    },
    {
      "cell_type": "code",
      "source": [
        "x0 =  # initial x position in AU\n",
        "y0 =  # initial y position in AU\n",
        "v0x =  # initial x velocity in AU/yr\n",
        "v0y =  # initial y velocity in AU/yr\n",
        "tmax = 3# time in years\n",
        "dt = 0.01# time step in years\n",
        "\n",
        "\n",
        "# call main"
      ],
      "metadata": {
        "id": "W6D3IlZOYC2z"
      },
      "execution_count": null,
      "outputs": []
    },
    {
      "cell_type": "markdown",
      "source": [
        "### Question 4\n",
        "\n",
        "* does orbit stay stable when using the Euler method?  \n",
        "* describe what happens to the radius and speed over time.  What does this imply about the total energy of our Earth-Sun model?\n",
        "* are your results consistent with what we observed when using the Euler method to model the simple harmonic motion of a mass on a spring?\n",
        "* is the Euler method appropriate to use when modeling planetary motion?"
      ],
      "metadata": {
        "id": "aX_1rLuMZX2q"
      }
    },
    {
      "cell_type": "markdown",
      "source": [
        "# Adapt your model\n",
        "\n",
        "(5 points)\n",
        "\n",
        "Use your code to model the motion of another planet, or of a comet.\n",
        "\n",
        "The mass of the Sun is 2E33 kg.  Here are some orbital parameters for other planets:\n",
        "\n",
        "| Planet | Orbital Radius (AU) | Eccentricity | Mass (kg) |\n",
        "|-------|---------|--|--|\n",
        "|Mercury | 0.39 | 0.206 |2.4E23 |\n",
        "| Venus | 0.72 |0.007|4.9E24 |\n",
        "|Earth | 1.00 | 0.017|6.0E24 |\n",
        "| Mars | 1.52 |0.093| 6.6E23 |\n",
        "| Jupiter | 5.20 |0.048| 1.9E27|\n",
        "| Saturn | 9.54 |0.056|5.7E26 |\n",
        "| Uranus | 19.19 |0.046|8.8E25|\n",
        "| Neptune | 30.06 |0.010|1.03E26|\n",
        "|Pluto | 39.53 | 0.248|1.3E22|\n",
        "\n",
        "\n",
        "### Initial Conditions\n",
        "\n",
        "For objects moving in elliptical orbits, the maximum distance between the planet and Sun is:\n",
        "\n",
        "$$r_{max} = a(1+e) $$\n",
        "\n",
        "At this point, the object is moving with its slowest speed (Kepler's Second Law).  The min speed is given by:\n",
        "\n",
        "$$v_{min} = \\sqrt{GM_{sun}} \\sqrt{\\frac{1-e}{a(1+e)} \\left( 1 + \\frac{M_P}{M_{sun}}\\right) }$$\n",
        "\n",
        "\n",
        "### Compare Your Model Period to the Expected Period\n",
        "\n",
        "You can use google to find the period of the object you are modeling.  Our use Kepler's 3rd Law, which states the period squared is proportional to the semi-major axis cubed.  When dealing with objects that are orbiting the Sun, if we measure the period in years and the semi-major axis (or radius) in AU, then the relationship simplifies to:\n",
        "\n",
        "$$p_{yr} ^2 = a_{AU}^3.$$\n",
        "\n",
        "Compare with the orbital period (time to complete one revolution) determined from your model."
      ],
      "metadata": {
        "id": "wtyaX7EMZ58M"
      }
    },
    {
      "cell_type": "code",
      "source": [],
      "metadata": {
        "id": "XkyWiAjIZ2H6"
      },
      "execution_count": null,
      "outputs": []
    }
  ]
}