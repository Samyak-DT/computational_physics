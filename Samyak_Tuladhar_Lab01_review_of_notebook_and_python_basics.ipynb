{
  "nbformat": 4,
  "nbformat_minor": 0,
  "metadata": {
    "colab": {
      "provenance": [],
      "include_colab_link": true
    },
    "kernelspec": {
      "name": "python3",
      "display_name": "Python 3"
    }
  },
  "cells": [
    {
      "cell_type": "markdown",
      "metadata": {
        "id": "view-in-github",
        "colab_type": "text"
      },
      "source": [
        "<a href=\"https://colab.research.google.com/github/Samyak-DT/computational_physics/blob/main/Samyak_Tuladhar_Lab01_review_of_notebook_and_python_basics.ipynb\" target=\"_parent\"><img src=\"https://colab.research.google.com/assets/colab-badge.svg\" alt=\"Open In Colab\"/></a>"
      ]
    },
    {
      "cell_type": "markdown",
      "metadata": {
        "id": "36eTMfu05klo"
      },
      "source": [
        "# Lab 1: Python Review\n",
        "\n",
        "The goal of this notebook is to help you review some of the basics of python.\n",
        "\n",
        "Specifically, you will review\n",
        "\n",
        "* python syntax\n",
        "* markdown\n",
        "* formatted printing\n",
        "* loops\n",
        "* conditionals\n",
        "* functions\n",
        "* basic plotting\n",
        "\n",
        "# References That You Used\n",
        "\n",
        "List any references that you used here.  You can just paste in urls for online resources.\n",
        "\n",
        "* my reference 1\n",
        "* my reference 2\n",
        "\n"
      ]
    },
    {
      "cell_type": "markdown",
      "source": [
        "\n",
        "# Fixer-upper\n",
        "\n",
        "Fix the code in the cells below...it's all broken!\n",
        "\n",
        "(1 point each)"
      ],
      "metadata": {
        "id": "ho0V0oXimSW9"
      }
    },
    {
      "cell_type": "code",
      "source": [
        "import matplotlib.pylab as plt\n",
        "import numpy as np"
      ],
      "metadata": {
        "id": "uxIypO1ks8nv"
      },
      "execution_count": null,
      "outputs": []
    },
    {
      "cell_type": "code",
      "metadata": {
        "id": "7xWQl5iV5ZlR",
        "colab": {
          "base_uri": "https://localhost:8080/"
        },
        "outputId": "81d3ee22-b3ce-433d-efdc-85a1d50fef28"
      },
      "source": [
        "myage = 50 # Or fill in your age here\n",
        "print(f\"My age is {myage}\")\n"
      ],
      "execution_count": null,
      "outputs": [
        {
          "output_type": "stream",
          "name": "stdout",
          "text": [
            "My age is 50\n"
          ]
        }
      ]
    },
    {
      "cell_type": "code",
      "metadata": {
        "id": "_uqX-8oa50fF",
        "colab": {
          "base_uri": "https://localhost:8080/"
        },
        "outputId": "0c0c7223-6e65-4c12-dd00-2176db357dbc"
      },
      "source": [
        "song = \"Someone Great\"\n",
        "artist = \"LCD Soundsystem\"\n",
        "print(f\" '{song}' is sung by {artist}\")"
      ],
      "execution_count": null,
      "outputs": [
        {
          "output_type": "stream",
          "name": "stdout",
          "text": [
            " 'Someone Great' is sung by LCD Soundsystem\n"
          ]
        }
      ]
    },
    {
      "cell_type": "code",
      "metadata": {
        "id": "YdQv3Fxw5_wh",
        "colab": {
          "base_uri": "https://localhost:8080/"
        },
        "outputId": "54f211a3-de16-4294-b382-7542bf402e61"
      },
      "source": [
        "from math import factorial\n",
        "factorial(4)"
      ],
      "execution_count": null,
      "outputs": [
        {
          "output_type": "execute_result",
          "data": {
            "text/plain": [
              "24"
            ]
          },
          "metadata": {},
          "execution_count": 6
        }
      ]
    },
    {
      "cell_type": "code",
      "metadata": {
        "id": "XMy2PU_u6Dpm",
        "colab": {
          "base_uri": "https://localhost:8080/"
        },
        "outputId": "2816b544-612c-4a92-805b-0e1a0945ef4a"
      },
      "source": [
        "from math import pi,cos\n",
        "angle = pi/4.0\n",
        "print(cos(angle))"
      ],
      "execution_count": null,
      "outputs": [
        {
          "output_type": "stream",
          "name": "stdout",
          "text": [
            "0.7071067811865476\n"
          ]
        }
      ]
    },
    {
      "cell_type": "markdown",
      "metadata": {
        "id": "NJdvPivG6VhP"
      },
      "source": [
        "After you fix the above cell, try restarting the kernel (**Runtime --> Restart runtime...**) and re-running the cell to make sure it works.\n"
      ]
    },
    {
      "cell_type": "markdown",
      "metadata": {
        "id": "M_oS7zjam4_g"
      },
      "source": [
        "# Markdown\n",
        "(1 point each)\n",
        "\n",
        "1. Write out some text in bold, italics, and both.\n",
        "**bold: Hello world?**\n",
        "\n",
        "*italics Hello world*\n",
        "\n",
        "***both Hello World!!***\n",
        "\n",
        "1. Make a bullet list.\n",
        "\n",
        "- the\n",
        "- quick\n",
        "- brown\n",
        "- fox\n",
        "- jumped\n",
        "\n",
        "1. Write out some (3 or more) kinematic equations from Gen Phys I using LaTeX. You can reference a more complete list of\n",
        "symbols [here](https://artofproblemsolving.com/wiki/index.php/LaTeX:Symbols).\n",
        "\n",
        "$\\vec{F}= m\\vec{a}$\n",
        "\n",
        "$V_f^2=V_i^2+2ad$\n",
        "\n",
        "Two new kinematic equations\n",
        "\n",
        "$ y = y_0 + v_iy t + \\frac{1}{2} a_y t^2$\n",
        "\n",
        "$v_f = v_i + a t$"
      ]
    },
    {
      "cell_type": "markdown",
      "source": [
        "# Formatted Printing\n",
        "(1 point each)\n",
        "\n",
        "* We can use formatted print statements to print out variables.\n",
        "* We will often want to print the results of a calculation, but we don't want to print out a million digits.  We can use formatted print statements to limit the precision of the numbers that we print.\n",
        "* See this link for more details https://docs.python.org/3/tutorial/inputoutput.html"
      ],
      "metadata": {
        "id": "z46N8yx4mJp1"
      }
    },
    {
      "cell_type": "code",
      "source": [
        "myratio = 10/3\n",
        "print(f\"{myratio:.2f}\")"
      ],
      "metadata": {
        "id": "jGUaqE_ZmIJh",
        "colab": {
          "base_uri": "https://localhost:8080/"
        },
        "outputId": "df12f522-55fe-42b9-bfda-bfdf987bfadb"
      },
      "execution_count": null,
      "outputs": [
        {
          "output_type": "stream",
          "name": "stdout",
          "text": [
            "3.33\n"
          ]
        }
      ]
    },
    {
      "cell_type": "code",
      "source": [
        "# formatted print statement, we can reference the variable in brackets {}\n",
        "print(f\"my ratio = {myratio}\")"
      ],
      "metadata": {
        "id": "Q6SV8R-MnGwN",
        "colab": {
          "base_uri": "https://localhost:8080/"
        },
        "outputId": "706018eb-8602-43fe-d666-5ede6f634fe8"
      },
      "execution_count": null,
      "outputs": [
        {
          "output_type": "stream",
          "name": "stdout",
          "text": [
            "my ratio = 3.3333333333333335\n"
          ]
        }
      ]
    },
    {
      "cell_type": "code",
      "source": [
        "# we can limit the number of decimal places that it prints\n",
        "# in the statement below, I ask python to print the first two digits after the decimal point\n",
        "print(f\"my ratio = {myratio:.2f}\")"
      ],
      "metadata": {
        "id": "CDcv5LfsnRS9",
        "colab": {
          "base_uri": "https://localhost:8080/"
        },
        "outputId": "485350a5-8ea9-44be-b011-417828edda76"
      },
      "execution_count": null,
      "outputs": [
        {
          "output_type": "stream",
          "name": "stdout",
          "text": [
            "my ratio = 3.33\n"
          ]
        }
      ]
    },
    {
      "cell_type": "code",
      "source": [
        "# print pi to 5 decimal places\n",
        "print(f\"pi is approximately equal to: {pi:.5f}\")"
      ],
      "metadata": {
        "id": "my59mzWznlK_",
        "colab": {
          "base_uri": "https://localhost:8080/"
        },
        "outputId": "6d497b7d-24b8-441c-ef9b-c171658a11a6"
      },
      "execution_count": null,
      "outputs": [
        {
          "output_type": "stream",
          "name": "stdout",
          "text": [
            "pi is approximately equal to: 3.14159\n"
          ]
        }
      ]
    },
    {
      "cell_type": "markdown",
      "metadata": {
        "id": "3giruAXg1Es9"
      },
      "source": [
        "# Lists\n",
        "\n",
        "These exercises will allow you to test your understanding of Python lists.\n",
        "\n",
        "(1 point each)"
      ]
    },
    {
      "cell_type": "code",
      "metadata": {
        "id": "YZmDOp-a0_7z"
      },
      "source": [
        "fib = [1,2,3,5,8,13,21,34,55,84]"
      ],
      "execution_count": null,
      "outputs": []
    },
    {
      "cell_type": "code",
      "metadata": {
        "id": "BQFNz7q91Osr",
        "colab": {
          "base_uri": "https://localhost:8080/"
        },
        "outputId": "b381a109-d926-4720-b80c-294cbd677ef5"
      },
      "source": [
        "# Print the second entry in the list fib.\n",
        "print(fib[1])"
      ],
      "execution_count": null,
      "outputs": [
        {
          "output_type": "stream",
          "name": "stdout",
          "text": [
            "2\n"
          ]
        }
      ]
    },
    {
      "cell_type": "code",
      "metadata": {
        "id": "Uy59uKl51RKM",
        "colab": {
          "base_uri": "https://localhost:8080/"
        },
        "outputId": "92b1fc4e-ac99-4d72-9e7c-4cd4b2f7c9f0"
      },
      "source": [
        "# Print the 8th entry in the list fib.\n",
        "print(fib[7])"
      ],
      "execution_count": null,
      "outputs": [
        {
          "output_type": "stream",
          "name": "stdout",
          "text": [
            "34\n"
          ]
        }
      ]
    },
    {
      "cell_type": "code",
      "metadata": {
        "id": "7SoOIZgu1SIs",
        "colab": {
          "base_uri": "https://localhost:8080/"
        },
        "outputId": "0c08be28-dc00-49ef-f93a-915a621dc1a2"
      },
      "source": [
        "# How many entries are there in the fib list?\n",
        "print(f\"The no of entires in fib are {len(fib)}\")"
      ],
      "execution_count": null,
      "outputs": [
        {
          "output_type": "stream",
          "name": "stdout",
          "text": [
            "The no of entires in fib are 10\n"
          ]
        }
      ]
    },
    {
      "cell_type": "code",
      "metadata": {
        "id": "Hj-9YGFb1THE",
        "colab": {
          "base_uri": "https://localhost:8080/"
        },
        "outputId": "20e1d7e2-0000-4d9a-c263-7492946509c3"
      },
      "source": [
        "# How would you reference (using the proper index) the number 13 in the fib list?\n",
        "print(fib[5])"
      ],
      "execution_count": null,
      "outputs": [
        {
          "output_type": "stream",
          "name": "stdout",
          "text": [
            "13\n"
          ]
        }
      ]
    },
    {
      "cell_type": "code",
      "metadata": {
        "id": "JcVRV3K51UZM"
      },
      "source": [
        "words = ['Once upon a ','midnight dreary ','while I pondered ','weak and weary']"
      ],
      "execution_count": null,
      "outputs": []
    },
    {
      "cell_type": "code",
      "metadata": {
        "id": "JdPoBM6o1V31",
        "colab": {
          "base_uri": "https://localhost:8080/"
        },
        "outputId": "3f054f54-7d7c-4b52-fb8a-aae1e0e7028a"
      },
      "source": [
        "# How many entries are there in the words list?\n",
        "print(f\"Entries in the word list: {len(words)}\")"
      ],
      "execution_count": null,
      "outputs": [
        {
          "output_type": "stream",
          "name": "stdout",
          "text": [
            "Entries in the word list: 4\n"
          ]
        }
      ]
    },
    {
      "cell_type": "code",
      "metadata": {
        "id": "Enh1au3T1W5t",
        "colab": {
          "base_uri": "https://localhost:8080/"
        },
        "outputId": "f5c96f9c-6dc3-4cdd-ebbd-178d8809cfc1"
      },
      "source": [
        "# Print the 3rd entry in the words list?\n",
        "print(f\"The Third Entry of the Word List: {words[2]}\")"
      ],
      "execution_count": null,
      "outputs": [
        {
          "output_type": "stream",
          "name": "stdout",
          "text": [
            "The Third Entry of the Words List: while I pondered \n"
          ]
        }
      ]
    },
    {
      "cell_type": "code",
      "metadata": {
        "id": "M52P5_901Xme",
        "colab": {
          "base_uri": "https://localhost:8080/"
        },
        "outputId": "fa3d2086-c9df-4a55-ce4b-3f37c5791363"
      },
      "source": [
        "# How many characters are there in the 3rd entry in the words list?\n",
        "print(f\"Characters in the third entry of the word list: {len(words[2])}\")"
      ],
      "execution_count": null,
      "outputs": [
        {
          "output_type": "stream",
          "name": "stdout",
          "text": [
            "Characters in the third entry of the word list: 17\n"
          ]
        }
      ]
    },
    {
      "cell_type": "code",
      "metadata": {
        "id": "1G_Au1KQ1YVV",
        "colab": {
          "base_uri": "https://localhost:8080/"
        },
        "outputId": "82112a00-01c3-4b82-8d44-a77699dcbb52"
      },
      "source": [
        "# Make an empty list and use the append function to add to it the following numbers.\n",
        "# 16\n",
        "# 25\n",
        "# 121\n",
        "# 169\n",
        "# 225\n",
        "list=[]\n",
        "list.append(16)\n",
        "list.append(25)\n",
        "list.append(121)\n",
        "list.append(169)\n",
        "list.append(225)\n",
        "print(list)"
      ],
      "execution_count": null,
      "outputs": [
        {
          "output_type": "stream",
          "name": "stdout",
          "text": [
            "[16, 25, 121, 169, 225]\n"
          ]
        }
      ]
    },
    {
      "cell_type": "code",
      "metadata": {
        "id": "F7JHfM771Z_-",
        "colab": {
          "base_uri": "https://localhost:8080/"
        },
        "outputId": "6a7e38b3-f0fa-44a3-a426-ce38f5082428"
      },
      "source": [
        "# Make a list of two lists. Add to the first ``sub\" list the following words\n",
        "# 'One'\n",
        "# 'Two'\n",
        "# 'Three'\n",
        "#  and add to the second list\n",
        "# 1\n",
        "# 2\n",
        "# 3\n",
        "list1=[\"One\", \"Two\", \"Three\"]\n",
        "list2=[1,2,3]\n",
        "list=[list1,list2]\n",
        "print(list)"
      ],
      "execution_count": null,
      "outputs": [
        {
          "output_type": "stream",
          "name": "stdout",
          "text": [
            "[['One', 'Two', 'Three'], [1, 2, 3]]\n"
          ]
        }
      ]
    },
    {
      "cell_type": "code",
      "metadata": {
        "id": "zEZju2mq1bbe",
        "colab": {
          "base_uri": "https://localhost:8080/"
        },
        "outputId": "752e1a6e-a54a-436f-c9eb-ef4eaac0cdab"
      },
      "source": [
        "# Print out the entry with 'Two'\n",
        "print(list[0][1])"
      ],
      "execution_count": null,
      "outputs": [
        {
          "output_type": "stream",
          "name": "stdout",
          "text": [
            "Two\n"
          ]
        }
      ]
    },
    {
      "cell_type": "code",
      "metadata": {
        "id": "e5Y2hZw01cjN",
        "colab": {
          "base_uri": "https://localhost:8080/"
        },
        "outputId": "845a435a-5595-4d92-a956-b8597f64b252"
      },
      "source": [
        "# Print out the entry with 3\n",
        "print(list[1][2])"
      ],
      "execution_count": null,
      "outputs": [
        {
          "output_type": "stream",
          "name": "stdout",
          "text": [
            "3\n"
          ]
        }
      ]
    },
    {
      "cell_type": "markdown",
      "metadata": {
        "id": "lkngXj8V1ffm"
      },
      "source": [
        "# Loops\n",
        "\n",
        "These exercises will allow you to test your understanding of loops in Python.\n",
        "\n",
        "(2 points each)"
      ]
    },
    {
      "cell_type": "code",
      "metadata": {
        "id": "GGiYk-9s1dUN",
        "colab": {
          "base_uri": "https://localhost:8080/"
        },
        "outputId": "604d853b-0c22-44af-e1c5-76958febc228"
      },
      "source": [
        "# Use a while loop to print out the even numbers from 0-10 (inclusive)\n",
        "x=0\n",
        "while x <= 10:\n",
        "  print(x)\n",
        "  x += 2"
      ],
      "execution_count": null,
      "outputs": [
        {
          "output_type": "stream",
          "name": "stdout",
          "text": [
            "0\n",
            "2\n",
            "4\n",
            "6\n",
            "8\n",
            "10\n"
          ]
        }
      ]
    },
    {
      "cell_type": "code",
      "metadata": {
        "id": "kp_qKAgB1jK3",
        "colab": {
          "base_uri": "https://localhost:8080/"
        },
        "outputId": "3f668328-68a9-4877-ec89-23cc81de2003"
      },
      "source": [
        "# Use a for loop with the range function to print out the even numbers from 0-10 (inclusive)\n",
        "for i in range(0,11,2):\n",
        "  print(i)"
      ],
      "execution_count": null,
      "outputs": [
        {
          "output_type": "stream",
          "name": "stdout",
          "text": [
            "0\n",
            "2\n",
            "4\n",
            "6\n",
            "8\n",
            "10\n"
          ]
        }
      ]
    },
    {
      "cell_type": "code",
      "metadata": {
        "id": "x5JOczHi1j-t",
        "colab": {
          "base_uri": "https://localhost:8080/"
        },
        "outputId": "4d7ad9a6-c24e-4c34-b409-7ee876741313"
      },
      "source": [
        "# Use a for loop to add up the multiples of 3 that are less than 100.\n",
        "x=0\n",
        "sum=0\n",
        "while x<100:\n",
        "  if x%3 == 0:\n",
        "    sum+=x\n",
        "    print(sum)\n",
        "  x+=1\n",
        "\n"
      ],
      "execution_count": null,
      "outputs": [
        {
          "output_type": "stream",
          "name": "stdout",
          "text": [
            "0\n",
            "3\n",
            "9\n",
            "18\n",
            "30\n",
            "45\n",
            "63\n",
            "84\n",
            "108\n",
            "135\n",
            "165\n",
            "198\n",
            "234\n",
            "273\n",
            "315\n",
            "360\n",
            "408\n",
            "459\n",
            "513\n",
            "570\n",
            "630\n",
            "693\n",
            "759\n",
            "828\n",
            "900\n",
            "975\n",
            "1053\n",
            "1134\n",
            "1218\n",
            "1305\n",
            "1395\n",
            "1488\n",
            "1584\n",
            "1683\n"
          ]
        }
      ]
    },
    {
      "cell_type": "code",
      "metadata": {
        "id": "Gj025a-D1k3u",
        "colab": {
          "base_uri": "https://localhost:8080/"
        },
        "outputId": "59c47264-34e4-4b69-bd9c-8ed0ab8ad953"
      },
      "source": [
        "# Use a while loop to add up the multiples of 3 (starting at 0), while the total is less than 100.\n",
        "sum=0\n",
        "i=0\n",
        "while sum <= 100:\n",
        "  if i%3 == 0:\n",
        "    print(sum)\n",
        "    sum+=i\n",
        "  i+=1"
      ],
      "execution_count": null,
      "outputs": [
        {
          "output_type": "stream",
          "name": "stdout",
          "text": [
            "0\n",
            "0\n",
            "3\n",
            "9\n",
            "18\n",
            "30\n",
            "45\n",
            "63\n",
            "84\n"
          ]
        }
      ]
    },
    {
      "cell_type": "code",
      "metadata": {
        "id": "TO_DbqrOQwiW",
        "colab": {
          "base_uri": "https://localhost:8080/"
        },
        "outputId": "d24173a5-da34-454c-8097-508dd770b9e1"
      },
      "source": [
        "fib = [1,2,3,5,8,13,21,34,55,84]\n",
        "\n",
        "# Loop over this list and print out the entries 2 ways:\n",
        "# * Just iterating over each entry in the list\n",
        "for f in fib:\n",
        "  print(f)\n",
        "print()\n",
        "\n",
        "# * Using \"range\" and referencing the entries by index\n",
        "for i in range(len(fib)):\n",
        "  print(fib[i])"
      ],
      "execution_count": null,
      "outputs": [
        {
          "output_type": "stream",
          "name": "stdout",
          "text": [
            "1\n",
            "2\n",
            "3\n",
            "5\n",
            "8\n",
            "13\n",
            "21\n",
            "34\n",
            "55\n",
            "84\n",
            "\n",
            "1\n",
            "2\n",
            "3\n",
            "5\n",
            "8\n",
            "13\n",
            "21\n",
            "34\n",
            "55\n",
            "84\n"
          ]
        }
      ]
    },
    {
      "cell_type": "code",
      "metadata": {
        "id": "TZEkZjBL1l3t",
        "colab": {
          "base_uri": "https://localhost:8080/"
        },
        "outputId": "9860d55a-ac6e-408e-ee08-c2157930ed7c"
      },
      "source": [
        "# Put all the entries in the following list into a single string and print that string, using a for loop.\n",
        "words = ['Once upon a ','midnight dreary ','while I pondered ','weak and weary']\n",
        "i=0\n",
        "results=\"\"\n",
        "for i in range(0,len(words)-1):\n",
        "  results+=words[i]\n",
        "print(results)"
      ],
      "execution_count": null,
      "outputs": [
        {
          "output_type": "stream",
          "name": "stdout",
          "text": [
            "Once upon a midnight dreary while I pondered \n"
          ]
        }
      ]
    },
    {
      "cell_type": "code",
      "metadata": {
        "id": "EP8hHaBz1nN2",
        "colab": {
          "base_uri": "https://localhost:8080/"
        },
        "outputId": "6f9500c6-6b5c-4ca5-d043-5aed6320a468"
      },
      "source": [
        "# Fill a list with the first 1000 multiples of 13 (starting with 13). Verify your work by checking the length of the\n",
        "# list.\n",
        "multiples=[13*n for n in range(0,1000)]\n",
        "print(len(multiples))"
      ],
      "execution_count": null,
      "outputs": [
        {
          "output_type": "stream",
          "name": "stdout",
          "text": [
            "1000\n"
          ]
        }
      ]
    },
    {
      "cell_type": "markdown",
      "metadata": {
        "id": "i-AnL1XWnHpt"
      },
      "source": [
        "# Conditionals\n",
        "\n",
        "These exercises will allow you to test your understanding of conditional statments in Python.\n",
        "\n",
        "(2 points each)"
      ]
    },
    {
      "cell_type": "code",
      "metadata": {
        "id": "4D-yJ8nnyKeg",
        "colab": {
          "base_uri": "https://localhost:8080/"
        },
        "outputId": "7e1d5fa7-5a9b-4097-b1fa-c4ec3becadae"
      },
      "source": [
        "# Test to see what is larger (without printing the answers to the\n",
        "# multiplication to the screen)\n",
        "#\n",
        "# 25*32\n",
        "# or\n",
        "# 17*49\n",
        "#\n",
        "# Print which product is larger to the screen.\n",
        "\n",
        "a = 25*32\n",
        "b = 17*49\n",
        "if a > b: print(\"25*32 is the bigger product\")\n",
        "else: print(\"17*49 is the bigger product\")"
      ],
      "execution_count": null,
      "outputs": [
        {
          "output_type": "stream",
          "name": "stdout",
          "text": [
            "17*49 is the bigger product\n"
          ]
        }
      ]
    },
    {
      "cell_type": "code",
      "metadata": {
        "id": "-m9-3H_eyZeX",
        "colab": {
          "base_uri": "https://localhost:8080/"
        },
        "outputId": "80ca8385-4c0f-436f-97ee-a97c78abe9a2"
      },
      "source": [
        "# Test whether or not 18/2 is the same as 36/4\n",
        "if 18/2 == 36/4: print(\"True\")\n",
        "else: print(\"False\")"
      ],
      "execution_count": null,
      "outputs": [
        {
          "output_type": "stream",
          "name": "stdout",
          "text": [
            "True\n"
          ]
        }
      ]
    },
    {
      "cell_type": "code",
      "metadata": {
        "id": "wfyraanJyalj",
        "colab": {
          "base_uri": "https://localhost:8080/"
        },
        "outputId": "d64478c7-85d6-4e02-820c-10cabb574320"
      },
      "source": [
        "# Test whether or not 18/2 is the same as 36.0/4.0\n",
        "if 18/2 == 36.0/4.0: print(\"True\")\n",
        "else: print(\"False\")"
      ],
      "execution_count": null,
      "outputs": [
        {
          "output_type": "stream",
          "name": "stdout",
          "text": [
            "True\n"
          ]
        }
      ]
    },
    {
      "cell_type": "code",
      "metadata": {
        "id": "aUJ3IR5qybeu",
        "colab": {
          "base_uri": "https://localhost:8080/"
        },
        "outputId": "0b4e600a-30a5-4217-9304-ae75e89dfb0d"
      },
      "source": [
        "# Test whether or not 1/2 is the same as 1.0/2.0\n",
        "if 1/2 == 1.0/2.0: print(\"True\")\n",
        "else: print(False)"
      ],
      "execution_count": null,
      "outputs": [
        {
          "output_type": "stream",
          "name": "stdout",
          "text": [
            "True\n"
          ]
        }
      ]
    },
    {
      "cell_type": "code",
      "metadata": {
        "id": "S9aKmmQ8yc4Q",
        "colab": {
          "base_uri": "https://localhost:8080/"
        },
        "outputId": "2d537a07-8498-4b6c-ef6f-9ad8f9cfd749"
      },
      "source": [
        "# Are these two strings equal? If not write some code to figure out what is different.\n",
        "x = \"00000000000000000000000000000000000000000000000000\"\n",
        "y = \"00000000000000000000000000000000000000000000O00000\"\n",
        "i=0\n",
        "if x == y: print(\"True\")\n",
        "else:\n",
        "  for xx,yy in zip(x,y):\n",
        "    i+=1\n",
        "    if xx != yy:\n",
        "      print(f\"{xx} in x is different from {yy} in y on the {i} position\")"
      ],
      "execution_count": null,
      "outputs": [
        {
          "output_type": "stream",
          "name": "stdout",
          "text": [
            "0 in x is different from O in y on the 45 position\n"
          ]
        }
      ]
    },
    {
      "cell_type": "markdown",
      "metadata": {
        "id": "zXiidCtvnwCq"
      },
      "source": [
        "# Functions\n",
        "\n",
        "Write a function called ```feet2miles``` that takes in 1 argument, ```feet``` and returns the equivalent number of miles. Set the default value of feet to be 100.\n",
        "\n",
        "For reference, there are 5280 feet in a mile.\n",
        "\n",
        "(5 points)"
      ]
    },
    {
      "cell_type": "code",
      "metadata": {
        "id": "Db55VxfCnw3B",
        "colab": {
          "base_uri": "https://localhost:8080/"
        },
        "outputId": "ee3fdd99-273a-4d5e-9a55-6cac7d730761"
      },
      "source": [
        "# Your code here\n",
        "\n",
        "def feet2miles(feet):\n",
        "  return feet/5280\n",
        "\n",
        "\n",
        "# This part is for testing the above.\n",
        "\n",
        "m = feet2miles(5280)\n",
        "print(m) # Should be 1\n",
        "\n",
        "m = feet2miles(1)\n",
        "print(m)\n",
        "\n",
        "m = feet2miles(1000)\n",
        "print(m)"
      ],
      "execution_count": null,
      "outputs": [
        {
          "output_type": "stream",
          "name": "stdout",
          "text": [
            "1.0\n",
            "0.0001893939393939394\n",
            "0.1893939393939394\n"
          ]
        }
      ]
    },
    {
      "cell_type": "code",
      "source": [
        "# Make an array of values in feet, ranging from 1000 to 20000, in steps of 1000\n",
        "# using the np.arange function\n",
        "myfeet = np.arange(1000, 20000, 1000)\n",
        "\n",
        "# Use your feet2miles function to create a second array,\n",
        "# which is the equivalent of myfeet but is instead mymiles\n",
        "# this should be only one line of code!\n",
        "mymiles=feet2miles(myfeet)\n",
        "print(mymiles)"
      ],
      "metadata": {
        "id": "eXKYot3Tprt4",
        "colab": {
          "base_uri": "https://localhost:8080/"
        },
        "outputId": "9b3aaaa4-e9da-48ae-cdd9-f71251d036d5"
      },
      "execution_count": null,
      "outputs": [
        {
          "output_type": "stream",
          "name": "stdout",
          "text": [
            "[0.18939394 0.37878788 0.56818182 0.75757576 0.9469697  1.13636364\n",
            " 1.32575758 1.51515152 1.70454545 1.89393939 2.08333333 2.27272727\n",
            " 2.46212121 2.65151515 2.84090909 3.03030303 3.21969697 3.40909091\n",
            " 3.59848485]\n"
          ]
        }
      ]
    },
    {
      "cell_type": "markdown",
      "metadata": {
        "id": "ZfpbRMrF0gc1"
      },
      "source": [
        "# Plotting"
      ]
    },
    {
      "cell_type": "markdown",
      "metadata": {
        "id": "LWKVeMFsHR1R"
      },
      "source": [
        "## Kinematics\n",
        "\n",
        "(5 points)\n",
        "\n",
        "Suppose you are standing on a cliff 50 meters high. You throw a ball almost straight up with a velocity of 15 m/s. It misses the edge of the cliff on the way down so it will continue all the way to the ground below.\n",
        "\n",
        "Neglecting air resistance, solve for the height, velocity, and acceleration of the ball as a function of time.  Write your solution on a whiteboard and check your results with your instructor.\n",
        "\n",
        "Once you have your solution approved, write the functions that you determined here.  Be sure to use the latex/markup features to display the equations in a nice format.   (2 points)\n",
        "\n",
        "**YOUR EQUATIONS GO HERE**\n",
        "\n",
        "$v(t) = v_i - 9.81 t$\n",
        "\n",
        "$h(t)=h_i + v_i t -\\frac{1}{2} 9.81 t^2$\n",
        "\n",
        "$a=-9.81$\n",
        "\n",
        "Then make some plots of the (6 points)\n",
        "\n",
        "* Acceleration vs. time\n",
        "* Velocity vs. time\n",
        "* Position vs. time\n",
        "\n",
        "Make these plots for the time period when it is thrown in the air until it lands on the ground below."
      ]
    },
    {
      "cell_type": "code",
      "metadata": {
        "id": "5lOCmSa8oLL3",
        "colab": {
          "base_uri": "https://localhost:8080/",
          "height": 1000
        },
        "outputId": "0361664f-cf7e-4366-8bb1-1ecce5c80a81"
      },
      "source": [
        "# Your code here\n",
        "v_i = 15\n",
        "h_i = 50\n",
        "a=-9.8\n",
        "t=np.linspace(0,5,1000)\n",
        "v = v_i + a * t\n",
        "h = h_i + v_i * t + 1/2 * a * t**2\n",
        "plt.title(\"Velocity Graph\")\n",
        "plt.plot(t,v)\n",
        "plt.grid(True)\n",
        "plt.show()\n",
        "plt.title(\"Height Graph\")\n",
        "plt.plot(t,h)\n",
        "plt.grid(True)\n",
        "plt.show()\n",
        "plt.title(\"Acceleration Graph\")\n",
        "plt.plot(t,a*np.ones_like(t))\n",
        "plt.grid(True)"
      ],
      "execution_count": null,
      "outputs": [
        {
          "output_type": "display_data",
          "data": {
            "text/plain": [
              "<Figure size 640x480 with 1 Axes>"
            ],
            "image/png": "[encoded data removed]"
          },
          "metadata": {}
        },
        {
          "output_type": "display_data",
          "data": {
            "text/plain": [
              "<Figure size 640x480 with 1 Axes>"
            ],
            "image/png": "[encoded data removed]"
          },
          "metadata": {}
        },
        {
          "output_type": "display_data",
          "data": {
            "text/plain": [
              "<Figure size 640x480 with 1 Axes>"
            ],
            "image/png": "[encoded data removed]"
          },
          "metadata": {}
        }
      ]
    },
    {
      "cell_type": "markdown",
      "source": [
        "## Make a plot of $sin(\\theta)$ and $cos(\\theta)$\n",
        "\n",
        "(5 points)\n",
        "\n",
        "* make a plot of $sin(\\theta)$ and $cos(\\theta)$ as a function of theta, $\\theta$.\n",
        "* theta should be in radians, with theta ranging from $0 \\le \\theta \\le 2\\pi$. (Hint: use np.linspace to create the theta array, with 100 elements.)\n",
        "* make a plot with 1 column and two rows, and plot sin in the top row and cosine in the bottom row.  You can use plt.subplot to make multi-panel plots.\n",
        "\n",
        "```\n",
        "plt.subplot(2,1,1)\n",
        "```\n",
        "* NOTE: for this exercise, you should use the trig functions from numpy, e.g. np.sin and np.cos.\n",
        "\n",
        "(4 points)"
      ],
      "metadata": {
        "id": "j2mlCHh4oMhx"
      }
    },
    {
      "cell_type": "code",
      "source": [
        "# Your code here\n",
        "theta= np.linspace(0,2*pi,100)\n",
        "\n",
        "plt.figure()\n",
        "\n",
        "plt.subplot(3,1,1)\n",
        "plt.plot(theta, np.sin(theta),\"bo\", markersize= 4, alpha= .5)\n",
        "plt.subplot(3,1,2)\n",
        "plt.plot(theta, np.cos(theta), \"k*\");\n",
        "plt.subplot(3,1,3)\n",
        "plt.plot(theta, np.cos(theta), \"k*\");\n",
        "plt.plot(theta,np.sin(theta), \"bo\")"
      ],
      "metadata": {
        "id": "FA-1b2RGo9Dz",
        "colab": {
          "base_uri": "https://localhost:8080/",
          "height": 447
        },
        "outputId": "38dad2e4-44b7-4db0-dff0-5d6ed0d45a0d"
      },
      "execution_count": null,
      "outputs": [
        {
          "output_type": "execute_result",
          "data": {
            "text/plain": [
              "[<matplotlib.lines.Line2D at 0x7863e4443750>]"
            ]
          },
          "metadata": {},
          "execution_count": 97
        },
        {
          "output_type": "display_data",
          "data": {
            "text/plain": [
              "<Figure size 640x480 with 3 Axes>"
            ],
            "image/png": "[encoded data removed]"
          },
          "metadata": {}
        }
      ]
    },
    {
      "cell_type": "code",
      "source": [
        "plt.figure(figsize=(10,8))\n",
        "plt.subplot(3,1,1)\n",
        "plt.plot(t,v,\"bo\", markersize= 4, alpha= .5)\n",
        "plt.title(\"Velocity vs Time Graph\")\n",
        "plt.grid(True)\n",
        "plt.subplot(3,1,2)\n",
        "plt.title(\"Height vs Time Graph\")\n",
        "plt.plot(t,h, \"k*\");\n",
        "plt.grid(True)\n",
        "plt.subplot(3,1,3)\n",
        "plt.title(\"Acceleration vs Time Graph\")\n",
        "plt.plot(t,a*np.ones_like(t), \"k*\")\n",
        "plt.grid(True)"
      ],
      "metadata": {
        "id": "2q9XThouzj6U",
        "colab": {
          "base_uri": "https://localhost:8080/",
          "height": 699
        },
        "outputId": "415e67f8-61e1-439d-8e43-5a2dedacf5c6"
      },
      "execution_count": null,
      "outputs": [
        {
          "output_type": "display_data",
          "data": {
            "text/plain": [
              "<Figure size 1000x800 with 3 Axes>"
            ],
            "image/png": "[encoded data removed]"
          },
          "metadata": {}
        }
      ]
    },
    {
      "cell_type": "code",
      "source": [],
      "metadata": {
        "id": "xZQmK8QJc7cu"
      },
      "execution_count": null,
      "outputs": []
    }
  ]
}