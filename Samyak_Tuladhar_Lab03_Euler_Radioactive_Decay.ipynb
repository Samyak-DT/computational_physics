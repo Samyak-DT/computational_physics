{
  "nbformat": 4,
  "nbformat_minor": 0,
  "metadata": {
    "colab": {
      "provenance": [],
      "include_colab_link": true
    },
    "kernelspec": {
      "name": "python3",
      "display_name": "Python 3"
    },
    "language_info": {
      "name": "python"
    }
  },
  "cells": [
    {
      "cell_type": "markdown",
      "metadata": {
        "id": "view-in-github",
        "colab_type": "text"
      },
      "source": [
        "<a href=\"https://colab.research.google.com/github/Samyak-DT/computational_physics/blob/main/Samyak_Tuladhar_Lab03_Euler_Radioactive_Decay.ipynb\" target=\"_parent\"><img src=\"https://colab.research.google.com/assets/colab-badge.svg\" alt=\"Open In Colab\"/></a>"
      ]
    },
    {
      "cell_type": "markdown",
      "source": [
        "# Lab 3: The Euler Method for Integrating Ordinary Differential Equantions\n",
        "\n",
        "*Written by Rose Finn*\n",
        "\n",
        "*Adapted from Giordano and Nakanishi, [Computational Physics](https://www.physics.purdue.edu/~hisao/book/), Chapter 1*\n",
        "\n",
        "# Overview\n",
        "\n",
        "The goal of this lab is to use the **Euler method** to model system that are changing with time.  If we can describe how the system changes with time, then we can determine how the system changes by stepping it forward in time using  tiny intervals of time.  This is the basic idea behind the Euler method."
      ],
      "metadata": {
        "id": "dXQCRRvekktg"
      }
    },
    {
      "cell_type": "code",
      "source": [
        "# import numpy and pyplot here\n",
        "import numpy as np\n",
        "import matplotlib.pyplot as plt"
      ],
      "metadata": {
        "id": "DhigXHbty-Oc"
      },
      "execution_count": 1,
      "outputs": []
    },
    {
      "cell_type": "markdown",
      "source": [
        "# Function Warm Up\n",
        "\n",
        "(5 points)\n",
        "\n",
        "Before starting the lab, we will do one problem to keep building our function-writing skills.\n",
        "\n",
        "**The problem**: Write a function that calculates the mean and standard deviation for a list of numbers.  Hint: the functions `np.mean()` and `np.std()` should be useful!\n",
        "\n",
        "Function requirements:\n",
        "* input = list/array of numbers\n",
        "* return = mean, std\n",
        "\n",
        "Be sure to include a descriptive comment string at the beginning of your function.\n"
      ],
      "metadata": {
        "id": "PEwzUWrOYKp8"
      }
    },
    {
      "cell_type": "code",
      "source": [
        "# your function here\n",
        "def stat(list):\n",
        "  mean=np.mean(list)\n",
        "  std=np.std(list)\n",
        "  return mean,std"
      ],
      "metadata": {
        "id": "8bmRFkisYJ2y"
      },
      "execution_count": 3,
      "outputs": []
    },
    {
      "cell_type": "code",
      "source": [
        "\n",
        "myvalues = np.random.normal(size=100,loc=100,scale=20)\n",
        "\n",
        "# Feed the following array into your function\n",
        "result=stat(myvalues)\n",
        "# print out the mean and standard deviation using a formatted print statement\n",
        "# to print two decimal places\n",
        "print(f\"Mean of myvalues is {result[0]:.2f}\")\n",
        "print(f\"Standard Deviation of myvalues is {result[1]:.2f}\")"
      ],
      "metadata": {
        "id": "v0E8n2wtyej1",
        "colab": {
          "base_uri": "https://localhost:8080/"
        },
        "outputId": "2aa9b5a1-3414-459a-b551-12d096c39d3e"
      },
      "execution_count": 7,
      "outputs": [
        {
          "output_type": "stream",
          "name": "stdout",
          "text": [
            "Mean of myvalues is 102.91\n",
            "Standard Deviation of myvalues is 18.52\n"
          ]
        }
      ]
    },
    {
      "cell_type": "markdown",
      "source": [
        "# Radioactive Decay\n",
        "\n",
        "We will use the Euler method to calculate how many radioactive nuclei survive as a function of time.  We talked about Uranium 235, but this could apply to any radioactive nuclei.  In fact, this could apply to anything that is experiencing an exponential decay.\n",
        "\n",
        "## Differential Equation Described How $N_U$ Changes With Time\n",
        "\n",
        "The equation that describes how the number of surviving nuclei changes with time is:\n",
        "\n",
        "$$ \\frac{dN}{dt} = - \\frac{N}{\\tau} $$\n",
        "\n",
        "where\n",
        "* N = number of nuclei present\n",
        "* $\\tau$ = half-live of the nuclei\n",
        "\n",
        "We can solve this particular [`Ordinary Differential Equation`](https://en.wikipedia.org/wiki/Ordinary_differential_equation) by separating variables and integrating:\n",
        "\n",
        "1. Separate variables\n",
        "$$ \\frac{dN}{N} = - \\frac{dt}{\\tau} $$\n",
        "2. Integrate\n",
        "$$ \\int_{N_0}^N \\frac{dN}{N} = - \\int_0^t \\frac{dt}{\\tau} $$\n",
        "$$ ln(N/N_0) = -\\frac{1}{\\tau} t $$\n",
        "3. Raise each side to the exponential\n",
        "$$ e^{ln(N/N_0)} = e^{-\\frac{1}{\\tau} t} $$\n",
        "$$ N/N_0 = e^{-\\frac{t}{\\tau}} $$\n",
        "4. This gives the analytic solution to how the number of nuclei changes with time:\n",
        "$$ N(t) = N_0 e^{-\\frac{t}{\\tau}} $$\n",
        "\n",
        "So although we can solve this equation analytically, it is a nice example to use for illustrating how the Euler method works.\n",
        "\n",
        "## Euler Method\n",
        "\n",
        "We can write the Taylor Expansion for $N(t)$ as\n",
        "\n",
        "$$ N(t + Δt) ≈ N(t) + \\frac{dN}{dt} \\Delta t $$\n",
        "\n",
        "We can then substitute $ \\frac{dN}{dt} = - \\frac{N}{\\tau} $ to get\n",
        "\n",
        "$$ N(t + Δt) ≈ N(t) - \\frac{N}{\\tau} \\Delta t $$\n",
        "\n",
        "Below you will write the functions that we need to calculate how the number of surviving Uranium nuclei ($N_U$) changes with time."
      ],
      "metadata": {
        "id": "UYM2PWqTXsLg"
      }
    },
    {
      "cell_type": "markdown",
      "source": [
        "\n",
        "### Write function to set up the time and number arrays\n",
        "\n",
        "(5 points)\n",
        "\n",
        "Write a function **initialize** that has the following.\n",
        "\n",
        "* input\n",
        "  * N0 = initial number of nuclei\n",
        "  * tau = decay half-life of the nuclei\n",
        "  * tmax = how long to calculate N and time\n",
        "  * dt = the time step to use for advancing the system\n",
        "\n",
        "* the function will\n",
        "  * calculate nsteps (this is tmax/dt), and make sure nsteps in an integer.\n",
        "  * define arrays for time *t* and the number of surviving nuclei *n_nuclei*.  These array should initially be set to zero, and they should have be *nsteps* long.\n",
        "  * set the first element of *n_nuclei* to N0\n",
        "\n",
        "* return\n",
        "  * *t, n_nuclei* arrays"
      ],
      "metadata": {
        "id": "_Aw1HhF-y6T7"
      }
    },
    {
      "cell_type": "code",
      "source": [
        "# write function initialize here\n",
        "def init(N0,tau,tmax,dt):\n",
        "  '''Function for initializing the parameters and create a time-array\n",
        "  Parameters:\n",
        "    N0 = initial number of nuclei\n",
        "    tau = decay half-life of the nuclei\n",
        "    tmax = how long to calculate N and time\n",
        "    dt = the time step to use for advancing the\n",
        "  Returns t: Time Array , n_nuclei arrays: Initial no of nuclei\n",
        "  '''\n",
        "  nsteps=int(tmax/dt)\n",
        "  t = np.zeros_like(np.linspace(0,tmax,nsteps))\n",
        "  n_nuclei=np.zeros_like(np.linspace(0,tmax,nsteps))\n",
        "  n_nuclei[0]=N0\n",
        "  return t,n_nuclei\n"
      ],
      "metadata": {
        "id": "rAl4eHOJXsej"
      },
      "execution_count": 20,
      "outputs": []
    },
    {
      "cell_type": "markdown",
      "source": [
        "### Write function to implement Euler calculation\n",
        "\n",
        "(5 points)\n",
        "\n",
        "Write a function **calculate** that does the following:\n",
        "\n",
        "* input\n",
        "  * time array, *t*\n",
        "  * array containing the number of surviving nuclei at each time step, *n_nuclei*\n",
        "  * dt\n",
        "  * tau\n",
        "\n",
        "\n",
        "* the function will\n",
        "  * loop over arrays and calculate:\n",
        "\n",
        "  ```\n",
        "  n_nuclei[i] = n_nuclei[i-1] - n_nuclei[i-1]/tau * dt\n",
        "  t[i] = t[i-1] + dt\n",
        "  ```  \n",
        "\n",
        "* return\n",
        "  *  *t, n_nuclei* arrays"
      ],
      "metadata": {
        "id": "uXf9Tr_e0X_2"
      }
    },
    {
      "cell_type": "code",
      "source": [
        "# write your calculate function here\n",
        "def calc(t,n_nuclei,dt,tau):\n",
        "  for i in range(1,len(t)):\n",
        "    n_nuclei[i]=n_nuclei[i-1] - n_nuclei[i-1]/tau * dt\n",
        "    t[i]=t[i-1]+dt\n",
        "  return t,n_nuclei"
      ],
      "metadata": {
        "id": "PkuO7SiY2PQS"
      },
      "execution_count": 21,
      "outputs": []
    },
    {
      "cell_type": "markdown",
      "source": [
        "### Running your code\n",
        "\n",
        "(5 points)\n",
        "\n",
        "You now just need to set up the initial values and call your functions.\n",
        "\n",
        "Give the variables the following values:\n",
        "\n",
        "* start with 100 nuclei\n",
        "* set the decay half-life to 1 second\n",
        "* set tmax to 5 seconds\n",
        "* use a time step of 0.05 s\n",
        "\n",
        "When you are finished, check your code with your instructor or LA."
      ],
      "metadata": {
        "id": "nPbJ5zDO2Uv4"
      }
    },
    {
      "cell_type": "code",
      "source": [
        "############################################################\n",
        "# This is your main program that will call the functions.\n",
        "############################################################\n",
        "\n",
        "\n",
        "\n",
        "# define initial values\n",
        "N0 = 100\n",
        "tau = 1\n",
        "tmax = 5\n",
        "dt = 0.05\n",
        "\n",
        "# call initialize function\n",
        "t_in,nuclei_in=init(N0,tau,tmax,dt)\n",
        "\n",
        "# call your calculate function\n",
        "t,nuclei=calc(t_in,nuclei_in,dt,tau)\n"
      ],
      "metadata": {
        "id": "04z99_ug6Tru"
      },
      "execution_count": 22,
      "outputs": []
    },
    {
      "cell_type": "markdown",
      "source": [
        "### Visualizing your results\n",
        "\n",
        "(5 points)\n",
        "\n",
        "* Make a plot of the number of nuclei versus time.  Plot the points with a marker (circle, square, etc) and not a line.\n",
        "* Plot the analytic solution for comparison.  Plot the solution with a line.\n",
        "\n",
        "Question:  How well do your calculated values compare with the analytic solution?"
      ],
      "metadata": {
        "id": "x9UmVQqb2XM3"
      }
    },
    {
      "cell_type": "code",
      "source": [
        "# plot the number of nuclei versus time using black squares\n",
        "plt.plot(t,nuclei,'ks',label=\"Euler Approximation\")\n",
        "# plot the analytic solution using a solid black line\n",
        "# Analytic Solution:  N(t)=N0*e^(-t/tau)\n",
        "plt.plot(t,N0*np.exp(-t/tau),'b-',label=\"\")\n",
        "plt.xlabel(\"Time\")\n",
        "plt.ylabel(\"No of undecayed atoms\")"
      ],
      "metadata": {
        "id": "8kT6EoGu2alp",
        "colab": {
          "base_uri": "https://localhost:8080/",
          "height": 447
        },
        "outputId": "52e5cc7c-8e62-430c-df8b-a1ac38f095e4"
      },
      "execution_count": 28,
      "outputs": [
        {
          "output_type": "execute_result",
          "data": {
            "text/plain": [
              "[<matplotlib.lines.Line2D at 0x796192ba7410>]"
            ]
          },
          "metadata": {},
          "execution_count": 28
        },
        {
          "output_type": "display_data",
          "data": {
            "text/plain": [
              "<Figure size 640x480 with 1 Axes>"
            ],
            "image/png": "[encoded data removed]"
          },
          "metadata": {}
        }
      ]
    },
    {
      "cell_type": "markdown",
      "source": [
        "### Investigating how the timesteps affect the accuracy of the approximation\n",
        "\n",
        "(5 points)\n",
        "\n",
        "You should find that your calculated values do a good job at recovering the analytic solution.  In this section we will see how the results are affected if we choose a different value for the time step, dt.\n",
        "\n",
        "Specifically, you should calculate the number of nuclei versus time using a time steps of 0.05 sec, 0.2 sec, and 0.5 sec.  Save the output as different names so you can plot all three together with the analytic solution.\n",
        "\n",
        "Plot the results.\n",
        "* plot the analytic solution with a line.\n",
        "* plot the results from the Euler approximation with points, and use different colors and shapes for each time step.\n",
        "* Make sure your plot has a legend that describes"
      ],
      "metadata": {
        "id": "f6dElRQT2bhX"
      }
    },
    {
      "cell_type": "code",
      "source": [
        "##########################################################\n",
        "## code to get number of nuclei and time for dt = 0.05 s\n",
        "##########################################################\n",
        "# initialize the arrays\n",
        "dt=0.05\n",
        "t_in,nuclei_in=init(N0,tau,tmax,dt)\n",
        "# call calculate, and save results to tp05, np05 (time for dt=.05s, number for dt=.05s)\n",
        "\n",
        "t1,nuclei1=calc(t_in,nuclei_in,dt,tau)\n",
        "\n",
        "##########################################################\n",
        "## code to get number of nuclei and time for dt = 0.2 s\n",
        "##########################################################\n",
        "\n",
        "\n",
        "# initialize the arrays\n",
        "dt=0.2\n",
        "t_in,nuclei_in=init(N0,tau,tmax,dt)\n",
        "# call calculate, and save results to tp2, np2 (time for dt=.2s, number for dt=.2s)\n",
        "t2,nuclei2=calc(t_in,nuclei_in,dt,tau)\n",
        "\n",
        "##########################################################\n",
        "## code to get number of nuclei and time for dt = 0.5 s\n",
        "##########################################################\n",
        "\n",
        "\n",
        "# initialize the arrays\n",
        "dt=0.5\n",
        "t_in,nuclei_in=init(N0,tau,tmax,dt)\n",
        "# call calculate, and save results to tp5, np5 (time for dt=.5s, number for dt=.5s)\n",
        "t3,nuclei3=calc(t_in,nuclei_in,dt,tau)\n"
      ],
      "metadata": {
        "id": "d109Cw-d2aRb"
      },
      "execution_count": 29,
      "outputs": []
    },
    {
      "cell_type": "code",
      "source": [
        "# code to plot the 3 different results\n",
        "plt.plot(t1,nuclei1,'bs',label=\"Timestep-0.05s\")\n",
        "plt.plot(t2,nuclei2,'g*',label='Timestep=0.2s')\n",
        "plt.plot(t3,nuclei3,'r.',label=\"Timestep=0.5s\")\n",
        "# code to plot the analytic solution\n",
        "plt.plot(t,N0*np.exp(-t/tau),'k-',label='Analytic Solution')\n",
        "# include a legend\n",
        "plt.legend()\n",
        "# label your axes\n",
        "plt.xlabel(\"Time\")\n",
        "plt.ylabel(\"No of undecayed atoms\")\n",
        "# add a title\n",
        "plt.title(\"Radioactive Decays and Different Approximation in Timesteps\")"
      ],
      "metadata": {
        "id": "Wm5zwwjJ2Rqa",
        "colab": {
          "base_uri": "https://localhost:8080/",
          "height": 489
        },
        "outputId": "e48842cb-420a-49ad-c8c9-f8c68da9353b"
      },
      "execution_count": 36,
      "outputs": [
        {
          "output_type": "execute_result",
          "data": {
            "text/plain": [
              "Text(0.5, 1.0, 'Radioactive Decays and Different Approximation in Timesteps')"
            ]
          },
          "metadata": {},
          "execution_count": 36
        },
        {
          "output_type": "display_data",
          "data": {
            "text/plain": [
              "<Figure size 640x480 with 1 Axes>"
            ],
            "image/png": "[encoded data removed]"
          },
          "metadata": {}
        }
      ]
    },
    {
      "cell_type": "markdown",
      "source": [
        "# Check Your Results with Your Instructor\n",
        "\n",
        "(2 points)\n",
        "\n",
        "Before moving on the the wiki writeup, check your results with your instructor."
      ],
      "metadata": {
        "id": "8VxLC3URtx5e"
      }
    },
    {
      "cell_type": "markdown",
      "source": [
        "# Summarize Your Results\n",
        "\n",
        "\n",
        "\n",
        "Complete your wiki page for this lab.  Your wiki should have the following elements.\n",
        "\n",
        "## Background\n",
        "1. Define what an ordinary differential equation is.\n",
        "1. Describe what a Taylor Expansion is and why it is useful\n",
        "1. Describe the general form of the Euler Method and why this is useful for approximating a solution to a differential equation\n",
        "\n",
        "## This Lab\n",
        "1. Describe how we apply the Euler method to approximate how the number of Uranium atoms declines as a function of time.\n",
        "1. Note that in this particular example, we can solve the equation analytically.  Nonetheless, this provides a nice way to introduce the Euler method and examine how some of our numerical choices affect the accuracy of our result.\n",
        "1. Describe does the time step in the Euler method affect the accuracy of your results.  Include the graph that illustrates how the time step affects the accuracy of your results.\n",
        "1. Include the two graphs that you generated."
      ],
      "metadata": {
        "id": "nLlgBn0P-Aq3"
      }
    },
    {
      "cell_type": "code",
      "source": [],
      "metadata": {
        "id": "51_YWYJd35Ts"
      },
      "execution_count": null,
      "outputs": []
    }
  ]
}